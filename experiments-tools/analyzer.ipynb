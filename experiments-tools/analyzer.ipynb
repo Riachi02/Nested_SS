{
 "cells": [
  {
   "cell_type": "code",
   "execution_count": 2,
   "metadata": {},
   "outputs": [],
   "source": [
    "import json\n",
    "import os"
   ]
  },
  {
   "cell_type": "code",
   "execution_count": 3,
   "metadata": {},
   "outputs": [],
   "source": [
    "def max_nesting_levels(obj):\n",
    "    is_dict = isinstance(obj, dict)\n",
    "    is_list = isinstance(obj, list)\n",
    "    if not is_dict and not is_list:\n",
    "        return 0\n",
    "    if is_list:\n",
    "        return 1 + max(max_nesting_levels(value) for value in obj)\n",
    "    return 1 + max(max_nesting_levels(value) for value in obj.values())"
   ]
  },
  {
   "cell_type": "code",
   "execution_count": 4,
   "metadata": {},
   "outputs": [],
   "source": [
    "def total_values_count(obj):\n",
    "    is_dict = isinstance(obj, dict)\n",
    "    is_list = isinstance(obj, list)\n",
    "    if not is_dict and not is_list:  # If the value is not a obj or a list, return 1\n",
    "        return 1\n",
    "    if is_list:\n",
    "        return sum(total_values_count(value) for value in obj)\n",
    "    return sum(total_values_count(value) for value in obj.values())"
   ]
  },
  {
   "cell_type": "code",
   "execution_count": 5,
   "metadata": {},
   "outputs": [],
   "source": [
    "def total_nested_keys_count(obj):\n",
    "    is_dict = isinstance(obj, dict)\n",
    "    is_list = isinstance(obj, list)\n",
    "    if not is_dict and not is_list:  # If the value is not a obj or a list, return 0\n",
    "        return 0\n",
    "    if is_list:\n",
    "        return sum(total_nested_keys_count(value) for value in obj)\n",
    "    return sum(total_nested_keys_count(value) for value in obj.values()) + len(obj)"
   ]
  },
  {
   "cell_type": "code",
   "execution_count": 57,
   "metadata": {},
   "outputs": [],
   "source": [
    "def analyze_obj(obj, level=0):\n",
    "    result = {}\n",
    "    for key, value in obj.items():\n",
    "        num_values = total_values_count(value)  # Calculate the total number of values for this key\n",
    "        num_nesting_levels = 0  # Initialize the number of nesting levels\n",
    "        num_nested_keys = 0  # Initialize the number of nested keys\n",
    "        if isinstance(value, dict):  # If the value is a obj\n",
    "            num_nesting_levels = max_nesting_levels(value)  # Calculate the number of nesting levels\n",
    "            num_nested_keys = total_nested_keys_count(value)  # Calculate the total number of nested keys\n",
    "\n",
    "        result[key] = {'num_values': num_values, 'num_nesting_levels': num_nesting_levels, 'num_nested_keys': num_nested_keys}\n",
    "    return result"
   ]
  },
  {
   "cell_type": "code",
   "execution_count": 6,
   "metadata": {},
   "outputs": [],
   "source": [
    "base_dir = '/home/workstation/samothrace-pseudonymization/dataset/extracted/'\n",
    "counted_output_dir = '/home/workstation/samothrace-pseudonymization/dataset/analysis/counted/'\n",
    "grouped_output_dir = '/home/workstation/samothrace-pseudonymization/dataset/analysis/grouped/'\n"
   ]
  },
  {
   "cell_type": "code",
   "execution_count": 59,
   "metadata": {},
   "outputs": [],
   "source": [
    "resources = os.listdir(base_dir)\n",
    "for resource in resources:\n",
    "    files = os.listdir(base_dir + resource)\n",
    "    for file in files:\n",
    "        if file.endswith('.json'):\n",
    "            with open(base_dir + resource + '/' + file) as f:\n",
    "                data = json.load(f)\n",
    "                analysis = analyze_obj(data)\n",
    "                #print(analysis)\n",
    "                #break\n",
    "                if not os.path.exists(counted_output_dir + resource):\n",
    "                    os.makedirs(counted_output_dir + resource)\n",
    "                with open(counted_output_dir + resource + '/' + file, 'w') as output:\n",
    "                    json.dump(analysis, output)"
   ]
  },
  {
   "cell_type": "code",
   "execution_count": 8,
   "metadata": {},
   "outputs": [
    {
     "name": "stdout",
     "output_type": "stream",
     "text": [
      "{'id': {'num_values': 1, 'num_nesting_levels': 0, 'num_nested_keys': 0}, 'meta': {'num_values': 1, 'num_nesting_levels': 2, 'num_nested_keys': 1}, 'status': {'num_values': 1, 'num_nesting_levels': 0, 'num_nested_keys': 0}, 'class': {'num_values': 1, 'num_nesting_levels': 1, 'num_nested_keys': 1}, 'type': {'num_values': 3, 'num_nesting_levels': 0, 'num_nested_keys': 0}, 'subject': {'num_values': 1, 'num_nesting_levels': 1, 'num_nested_keys': 1}, 'period': {'num_values': 2, 'num_nesting_levels': 1, 'num_nested_keys': 2}, 'reason': {'num_values': 3, 'num_nesting_levels': 3, 'num_nested_keys': 4}, 'serviceProvider': {'num_values': 1, 'num_nesting_levels': 1, 'num_nested_keys': 1}, 'resourceType': {'num_values': 1, 'num_nesting_levels': 0, 'num_nested_keys': 0}}\n",
      "{'id': {'num_values': 1, 'num_nesting_levels': 0, 'num_nested_keys': 0}, 'meta': {'num_values': 1, 'num_nesting_levels': 2, 'num_nested_keys': 1}, 'status': {'num_values': 1, 'num_nesting_levels': 0, 'num_nested_keys': 0}, 'class': {'num_values': 1, 'num_nesting_levels': 1, 'num_nested_keys': 1}, 'type': {'num_values': 3, 'num_nesting_levels': 0, 'num_nested_keys': 0}, 'subject': {'num_values': 1, 'num_nesting_levels': 1, 'num_nested_keys': 1}, 'period': {'num_values': 2, 'num_nesting_levels': 1, 'num_nested_keys': 2}, 'serviceProvider': {'num_values': 1, 'num_nesting_levels': 1, 'num_nested_keys': 1}, 'resourceType': {'num_values': 1, 'num_nesting_levels': 0, 'num_nested_keys': 0}}\n",
      "Different data for Encounter/a8104f4b-8081-4c9e-8324-9c0e142c9e69.json\n",
      "{'id': {'num_values': 1, 'num_nesting_levels': 0, 'num_nested_keys': 0}, 'meta': {'num_values': 1, 'num_nesting_levels': 2, 'num_nested_keys': 1}, 'text': {'num_values': 2, 'num_nesting_levels': 1, 'num_nested_keys': 2}, 'extension': {'num_values': 26, 'num_nesting_levels': 0, 'num_nested_keys': 0}, 'identifier': {'num_values': 6, 'num_nesting_levels': 0, 'num_nested_keys': 0}, 'name': {'num_values': 3, 'num_nesting_levels': 0, 'num_nested_keys': 0}, 'telecom': {'num_values': 3, 'num_nesting_levels': 0, 'num_nested_keys': 0}, 'gender': {'num_values': 1, 'num_nesting_levels': 0, 'num_nested_keys': 0}, 'birthDate': {'num_values': 1, 'num_nesting_levels': 0, 'num_nested_keys': 0}, 'address': {'num_values': 11, 'num_nesting_levels': 0, 'num_nested_keys': 0}, 'maritalStatus': {'num_values': 3, 'num_nesting_levels': 3, 'num_nested_keys': 4}, 'multipleBirthBoolean': {'num_values': 1, 'num_nesting_levels': 0, 'num_nested_keys': 0}, 'communication': {'num_values': 3, 'num_nesting_levels': 0, 'num_nested_keys': 0}, 'resourceType': {'num_values': 1, 'num_nesting_levels': 0, 'num_nested_keys': 0}}\n",
      "{'id': {'num_values': 1, 'num_nesting_levels': 0, 'num_nested_keys': 0}, 'meta': {'num_values': 1, 'num_nesting_levels': 2, 'num_nested_keys': 1}, 'text': {'num_values': 2, 'num_nesting_levels': 1, 'num_nested_keys': 2}, 'extension': {'num_values': 26, 'num_nesting_levels': 0, 'num_nested_keys': 0}, 'identifier': {'num_values': 14, 'num_nesting_levels': 0, 'num_nested_keys': 0}, 'name': {'num_values': 4, 'num_nesting_levels': 0, 'num_nested_keys': 0}, 'telecom': {'num_values': 3, 'num_nesting_levels': 0, 'num_nested_keys': 0}, 'gender': {'num_values': 1, 'num_nesting_levels': 0, 'num_nested_keys': 0}, 'birthDate': {'num_values': 1, 'num_nesting_levels': 0, 'num_nested_keys': 0}, 'address': {'num_values': 10, 'num_nesting_levels': 0, 'num_nested_keys': 0}, 'maritalStatus': {'num_values': 3, 'num_nesting_levels': 3, 'num_nested_keys': 4}, 'multipleBirthBoolean': {'num_values': 1, 'num_nesting_levels': 0, 'num_nested_keys': 0}, 'communication': {'num_values': 3, 'num_nesting_levels': 0, 'num_nested_keys': 0}, 'resourceType': {'num_values': 1, 'num_nesting_levels': 0, 'num_nested_keys': 0}}\n",
      "Different data for Patient/1b2340cd-3a97-4b99-b70c-f9ea2018102a.json\n",
      "{'id': {'num_values': 1, 'num_nesting_levels': 0, 'num_nested_keys': 0}, 'meta': {'num_values': 2, 'num_nesting_levels': 2, 'num_nested_keys': 1}, 'status': {'num_values': 1, 'num_nesting_levels': 0, 'num_nested_keys': 0}, 'category': {'num_values': 2, 'num_nesting_levels': 0, 'num_nested_keys': 0}, 'code': {'num_values': 3, 'num_nesting_levels': 3, 'num_nested_keys': 4}, 'subject': {'num_values': 1, 'num_nesting_levels': 1, 'num_nested_keys': 1}, 'context': {'num_values': 1, 'num_nesting_levels': 1, 'num_nested_keys': 1}, 'effectiveDateTime': {'num_values': 1, 'num_nesting_levels': 0, 'num_nested_keys': 0}, 'issued': {'num_values': 1, 'num_nesting_levels': 0, 'num_nested_keys': 0}, 'component': {'num_values': 16, 'num_nesting_levels': 0, 'num_nested_keys': 0}, 'resourceType': {'num_values': 1, 'num_nesting_levels': 0, 'num_nested_keys': 0}}\n",
      "{'id': {'num_values': 1, 'num_nesting_levels': 0, 'num_nested_keys': 0}, 'meta': {'num_values': 1, 'num_nesting_levels': 2, 'num_nested_keys': 1}, 'status': {'num_values': 1, 'num_nesting_levels': 0, 'num_nested_keys': 0}, 'category': {'num_values': 2, 'num_nesting_levels': 0, 'num_nested_keys': 0}, 'code': {'num_values': 4, 'num_nesting_levels': 3, 'num_nested_keys': 5}, 'subject': {'num_values': 1, 'num_nesting_levels': 1, 'num_nested_keys': 1}, 'context': {'num_values': 1, 'num_nesting_levels': 1, 'num_nested_keys': 1}, 'effectiveDateTime': {'num_values': 1, 'num_nesting_levels': 0, 'num_nested_keys': 0}, 'issued': {'num_values': 1, 'num_nesting_levels': 0, 'num_nested_keys': 0}, 'valueQuantity': {'num_values': 4, 'num_nesting_levels': 1, 'num_nested_keys': 4}, 'resourceType': {'num_values': 1, 'num_nesting_levels': 0, 'num_nested_keys': 0}}\n",
      "Different data for Observation/648b369b-2b21-4854-bc98-7c1ec7cac4d3.json\n",
      "{'id': {'num_values': 1, 'num_nesting_levels': 0, 'num_nested_keys': 0}, 'meta': {'num_values': 1, 'num_nesting_levels': 2, 'num_nested_keys': 1}, 'status': {'num_values': 1, 'num_nesting_levels': 0, 'num_nested_keys': 0}, 'code': {'num_values': 3, 'num_nesting_levels': 3, 'num_nested_keys': 4}, 'subject': {'num_values': 1, 'num_nesting_levels': 1, 'num_nested_keys': 1}, 'context': {'num_values': 1, 'num_nesting_levels': 1, 'num_nested_keys': 1}, 'effectiveDateTime': {'num_values': 1, 'num_nesting_levels': 0, 'num_nested_keys': 0}, 'issued': {'num_values': 1, 'num_nesting_levels': 0, 'num_nested_keys': 0}, 'result': {'num_values': 8, 'num_nesting_levels': 0, 'num_nested_keys': 0}, 'resourceType': {'num_values': 1, 'num_nesting_levels': 0, 'num_nested_keys': 0}}\n",
      "{'id': {'num_values': 1, 'num_nesting_levels': 0, 'num_nested_keys': 0}, 'meta': {'num_values': 1, 'num_nesting_levels': 2, 'num_nested_keys': 1}, 'status': {'num_values': 1, 'num_nesting_levels': 0, 'num_nested_keys': 0}, 'code': {'num_values': 3, 'num_nesting_levels': 3, 'num_nested_keys': 4}, 'subject': {'num_values': 1, 'num_nesting_levels': 1, 'num_nested_keys': 1}, 'context': {'num_values': 1, 'num_nesting_levels': 1, 'num_nested_keys': 1}, 'effectiveDateTime': {'num_values': 1, 'num_nesting_levels': 0, 'num_nested_keys': 0}, 'issued': {'num_values': 1, 'num_nesting_levels': 0, 'num_nested_keys': 0}, 'result': {'num_values': 16, 'num_nesting_levels': 0, 'num_nested_keys': 0}, 'resourceType': {'num_values': 1, 'num_nesting_levels': 0, 'num_nested_keys': 0}}\n",
      "Different data for DiagnosticReport/635eb25a-63e7-46af-9881-6bd6b15f46c8.json\n",
      "{'id': {'num_values': 1, 'num_nesting_levels': 0, 'num_nested_keys': 0}, 'meta': {'num_values': 1, 'num_nesting_levels': 2, 'num_nested_keys': 1}, 'clinicalStatus': {'num_values': 1, 'num_nesting_levels': 0, 'num_nested_keys': 0}, 'verificationStatus': {'num_values': 1, 'num_nesting_levels': 0, 'num_nested_keys': 0}, 'code': {'num_values': 4, 'num_nesting_levels': 3, 'num_nested_keys': 5}, 'subject': {'num_values': 1, 'num_nesting_levels': 1, 'num_nested_keys': 1}, 'context': {'num_values': 1, 'num_nesting_levels': 1, 'num_nested_keys': 1}, 'onsetDateTime': {'num_values': 1, 'num_nesting_levels': 0, 'num_nested_keys': 0}, 'assertedDate': {'num_values': 1, 'num_nesting_levels': 0, 'num_nested_keys': 0}, 'resourceType': {'num_values': 1, 'num_nesting_levels': 0, 'num_nested_keys': 0}}\n",
      "{'id': {'num_values': 1, 'num_nesting_levels': 0, 'num_nested_keys': 0}, 'meta': {'num_values': 1, 'num_nesting_levels': 2, 'num_nested_keys': 1}, 'clinicalStatus': {'num_values': 1, 'num_nesting_levels': 0, 'num_nested_keys': 0}, 'verificationStatus': {'num_values': 1, 'num_nesting_levels': 0, 'num_nested_keys': 0}, 'code': {'num_values': 4, 'num_nesting_levels': 3, 'num_nested_keys': 5}, 'subject': {'num_values': 1, 'num_nesting_levels': 1, 'num_nested_keys': 1}, 'context': {'num_values': 1, 'num_nesting_levels': 1, 'num_nested_keys': 1}, 'onsetDateTime': {'num_values': 1, 'num_nesting_levels': 0, 'num_nested_keys': 0}, 'abatementDateTime': {'num_values': 1, 'num_nesting_levels': 0, 'num_nested_keys': 0}, 'assertedDate': {'num_values': 1, 'num_nesting_levels': 0, 'num_nested_keys': 0}, 'resourceType': {'num_values': 1, 'num_nesting_levels': 0, 'num_nested_keys': 0}}\n",
      "Different data for Condition/afbb2fe1-9501-45cf-bdf2-5b19c5bcbd2e.json\n"
     ]
    }
   ],
   "source": [
    "resources = os.listdir(counted_output_dir)\n",
    "for resource in resources:\n",
    "    files = os.listdir(counted_output_dir + resource)\n",
    "    first = True\n",
    "    first_data = None\n",
    "    for file in files:\n",
    "        with open(counted_output_dir + resource + '/' + file) as f:\n",
    "            data = json.load(f)\n",
    "            if first:\n",
    "                first_data = data\n",
    "                first = False\n",
    "            else:\n",
    "                if data != first_data:\n",
    "                    print(data)\n",
    "                    print(first_data)\n",
    "                    print('Different data for ' + resource + '/' + file)\n",
    "                    break"
   ]
  },
  {
   "cell_type": "code",
   "execution_count": 24,
   "metadata": {},
   "outputs": [],
   "source": [
    "resources = os.listdir(counted_output_dir)\n",
    "for resource in resources:\n",
    "    different_data = {}\n",
    "    temp_data = {}\n",
    "    index = 0\n",
    "    #debug_index = 0\n",
    "    files = os.listdir(counted_output_dir + resource)\n",
    "    for file in files:\n",
    "        #print(file)\n",
    "        #print(temp_data)\n",
    "        #print(different_data)\n",
    "        with open(counted_output_dir + resource + '/' + file) as f:\n",
    "            data = json.load(f)\n",
    "            present = False\n",
    "            for key, value in temp_data.items():\n",
    "                #print(data)\n",
    "                #print(value)\n",
    "                #print(data == value)\n",
    "                if data == value:\n",
    "                    present = True\n",
    "                    different_data[key].append(file)\n",
    "                break\n",
    "            if not present:\n",
    "                different_data['group_' + str(index)] = [file]\n",
    "                temp_data['group_' + str(index)] = data\n",
    "                index += 1\n",
    "        #debug_index += 1\n",
    "        #if debug_index == 3:\n",
    "        #    break    \n",
    "    #break\n",
    "    if not os.path.exists(grouped_output_dir + resource):\n",
    "        os.makedirs(grouped_output_dir + resource)\n",
    "    for key, value in different_data.items():\n",
    "        with open(grouped_output_dir + resource + '/' + key + '.json', 'w') as output:\n",
    "            json.dump(value, output)\n",
    "    #break"
   ]
  },
  {
   "cell_type": "code",
   "execution_count": 15,
   "metadata": {},
   "outputs": [],
   "source": [
    "\"\"\" def group_dict_by_nested_values(input_dict, nested_value):\n",
    "    grouped_dict = {}\n",
    "    for key, value in input_dict.items():\n",
    "        if value[nested_value] not in grouped_dict:\n",
    "            grouped_dict[nested_value] = [key]\n",
    "        else:\n",
    "            grouped_dict[nested_value].append(key)\n",
    "    return grouped_dict \"\"\""
   ]
  },
  {
   "cell_type": "code",
   "execution_count": 17,
   "metadata": {},
   "outputs": [
    {
     "name": "stdout",
     "output_type": "stream",
     "text": [
      "{'num_nesting_levels': ['resourceType']}\n",
      "{'num_nesting_levels': ['resourceType']}\n",
      "{'num_nesting_levels': ['resourceType']}\n",
      "{'num_nesting_levels': ['resourceType']}\n",
      "{'num_nesting_levels': ['resourceType']}\n"
     ]
    }
   ],
   "source": [
    "\"\"\" analyzed_resources = os.listdir(counted_output_dir)\n",
    "\n",
    "for resource in analyzed_resources:\n",
    "    files = os.listdir(counted_output_dir + resource)\n",
    "    for file in files:\n",
    "        with open(counted_output_dir + resource + '/' + file) as f:\n",
    "            data = json.load(f)\n",
    "            grouped_data = group_dict_by_nested_values(data, 'num_nesting_levels')\n",
    "            print(grouped_data)\n",
    "            break    \"\"\"\n",
    "                "
   ]
  }
 ],
 "metadata": {
  "kernelspec": {
   "display_name": "samothrace-env",
   "language": "python",
   "name": "python3"
  },
  "language_info": {
   "codemirror_mode": {
    "name": "ipython",
    "version": 3
   },
   "file_extension": ".py",
   "mimetype": "text/x-python",
   "name": "python",
   "nbconvert_exporter": "python",
   "pygments_lexer": "ipython3",
   "version": "3.10.12"
  }
 },
 "nbformat": 4,
 "nbformat_minor": 2
}
