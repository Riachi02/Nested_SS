{
 "cells": [
  {
   "cell_type": "code",
   "execution_count": 7,
   "metadata": {},
   "outputs": [],
   "source": [
    "import json\n",
    "import os"
   ]
  },
  {
   "cell_type": "code",
   "execution_count": 8,
   "metadata": {},
   "outputs": [],
   "source": [
    "#resourceMap = dict()\n",
    "types = ['Patient', 'Encounter', 'Observation', 'DiagnosticReport', 'Condition']"
   ]
  },
  {
   "cell_type": "code",
   "execution_count": 9,
   "metadata": {},
   "outputs": [],
   "source": [
    "files = os.listdir('/home/workstation/samothrace-pseudonymization/dataset/synthea_1m_fhir_3_0_May_24/output_1/fhir/')\n",
    "i = 0\n",
    "for file in files:\n",
    "    if file.endswith('.json'):\n",
    "        i+=1\n",
    "        with open('/home/workstation/samothrace-pseudonymization/dataset/synthea_1m_fhir_3_0_May_24/output_1/fhir/' + file) as f:\n",
    "            data = json.load(f)\n",
    "            #print(len(data[\"entry\"]))\n",
    "            for entry in data[\"entry\"]:\n",
    "                #print(entry[\"resource\"].keys())\n",
    "                #print(entry[\"resource\"][\"resourceType\"])\n",
    "                if entry[\"resource\"][\"resourceType\"] in types:\n",
    "                #    print(entry[\"resource\"][\"id\"])\n",
    "                    if not os.path.exists('/home/workstation/samothrace-pseudonymization/dataset/extracted/' + entry[\"resource\"][\"resourceType\"]):\n",
    "                        os.makedirs('/home/workstation/samothrace-pseudonymization/dataset/extracted/' + entry[\"resource\"][\"resourceType\"])\n",
    "                    with open('/home/workstation/samothrace-pseudonymization/dataset/extracted/' + entry[\"resource\"][\"resourceType\"] + '/' + entry[\"resource\"][\"id\"] + '.json', 'w') as f:\n",
    "                        json.dump(entry[\"resource\"], f)\n",
    "                #if entry[\"resource\"][\"resourceType\"] in resourceMap:\n",
    "                #    resourceMap[entry[\"resource\"][\"resourceType\"]] += 1\n",
    "                #else:\n",
    "                #    resourceMap[entry[\"resource\"][\"resourceType\"]] = 1\n",
    "    if i == 1000:\n",
    "        break\n",
    "#print(resourceMap)"
   ]
  }
 ],
 "metadata": {
  "kernelspec": {
   "display_name": "samothrace-env",
   "language": "python",
   "name": "python3"
  },
  "language_info": {
   "codemirror_mode": {
    "name": "ipython",
    "version": 3
   },
   "file_extension": ".py",
   "mimetype": "text/x-python",
   "name": "python",
   "nbconvert_exporter": "python",
   "pygments_lexer": "ipython3",
   "version": "3.10.12"
  }
 },
 "nbformat": 4,
 "nbformat_minor": 2
}
